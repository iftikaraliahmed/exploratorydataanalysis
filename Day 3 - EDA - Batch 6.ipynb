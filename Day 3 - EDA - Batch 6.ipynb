{
 "cells": [
  {
   "cell_type": "code",
   "execution_count": 1,
   "metadata": {},
   "outputs": [],
   "source": [
    "# Importing the data\n",
    "\n",
    "# PS: Number of matches won by each team in IPL histroy\n",
    "\n",
    "import os\n",
    "import pandas as pd\n",
    "\n",
    "path = r\"C:\\Users\\amitc\\Desktop\\IPL Data\"\n",
    "\n",
    "os.chdir(path)\n",
    "\n",
    "os.listdir(path)\n",
    "\n",
    "ball = pd.read_excel(\"Ball_by_Ball.xlsx\")\n",
    "\n",
    "match = pd.read_excel(\"Match.xlsx\")\n",
    "\n",
    "player = pd.read_excel('Player.xlsx')\n",
    "\n",
    "player_match = pd.read_excel('Player_Match.xlsx')\n",
    "\n",
    "season = pd.read_excel('Season.xlsx')\n",
    "\n",
    "team = pd.read_excel('Team.xlsx')"
   ]
  },
  {
   "cell_type": "markdown",
   "metadata": {},
   "source": [
    "Univariate Analysis - Composition\n",
    "\n",
    "Lets say we want to check the what teams are deciding after winning the toss?"
   ]
  },
  {
   "cell_type": "code",
   "execution_count": 10,
   "metadata": {},
   "outputs": [
    {
     "data": {
      "text/html": [
       "<div>\n",
       "<style scoped>\n",
       "    .dataframe tbody tr th:only-of-type {\n",
       "        vertical-align: middle;\n",
       "    }\n",
       "\n",
       "    .dataframe tbody tr th {\n",
       "        vertical-align: top;\n",
       "    }\n",
       "\n",
       "    .dataframe thead th {\n",
       "        text-align: right;\n",
       "    }\n",
       "</style>\n",
       "<table border=\"1\" class=\"dataframe\">\n",
       "  <thead>\n",
       "    <tr style=\"text-align: right;\">\n",
       "      <th></th>\n",
       "      <th>Toss_Decision</th>\n",
       "      <th>Number of Matches</th>\n",
       "    </tr>\n",
       "  </thead>\n",
       "  <tbody>\n",
       "    <tr>\n",
       "      <th>0</th>\n",
       "      <td>bat</td>\n",
       "      <td>262</td>\n",
       "    </tr>\n",
       "    <tr>\n",
       "      <th>1</th>\n",
       "      <td>field</td>\n",
       "      <td>315</td>\n",
       "    </tr>\n",
       "  </tbody>\n",
       "</table>\n",
       "</div>"
      ],
      "text/plain": [
       "  Toss_Decision  Number of Matches\n",
       "0           bat                262\n",
       "1         field                315"
      ]
     },
     "execution_count": 10,
     "metadata": {},
     "output_type": "execute_result"
    }
   ],
   "source": [
    "# Decision after winning the toss\n",
    "\n",
    "Toss_decision = match.groupby(['Toss_Decision']).size().reset_index()\n",
    "\n",
    "Toss_decision\n",
    "\n",
    "# Lets rename the column\n",
    "\n",
    "Toss_decision = Toss_decision.rename(columns= {0 : \"Number of Matches\"})\n",
    "\n",
    "Toss_decision"
   ]
  },
  {
   "cell_type": "code",
   "execution_count": 15,
   "metadata": {},
   "outputs": [
    {
     "data": {
      "image/png": "[encoded data removed]",
      "text/plain": [
       "<Figure size 432x288 with 1 Axes>"
      ]
     },
     "metadata": {},
     "output_type": "display_data"
    }
   ],
   "source": [
    "# We can represent the same by a pie chart\n",
    "\n",
    "from matplotlib import pyplot as plt\n",
    "\n",
    "# We will use autopct to indicate percent lables on pie chart\n",
    "\n",
    "plt.pie(Toss_decision['Number of Matches'], labels=Toss_decision['Toss_Decision'], autopct='%.2f%%')\n",
    "\n",
    "plt.show()\n"
   ]
  },
  {
   "cell_type": "code",
   "execution_count": 16,
   "metadata": {},
   "outputs": [
    {
     "data": {
      "image/png": "[encoded data removed]",
      "text/plain": [
       "<Figure size 432x288 with 1 Axes>"
      ]
     },
     "metadata": {},
     "output_type": "display_data"
    }
   ],
   "source": [
    "# I can also use the functions like pctdistance, labeldistance, explode\n",
    "\n",
    "explode = (0, 0.1)\n",
    "\n",
    "plt.pie(Toss_decision['Number of Matches'], labels=Toss_decision['Toss_Decision'], autopct='%.2f%%', explode=explode)\n",
    "\n",
    "plt.show()"
   ]
  },
  {
   "cell_type": "code",
   "execution_count": 21,
   "metadata": {},
   "outputs": [
    {
     "data": {
      "image/png": "[encoded data removed]",
      "text/plain": [
       "<Figure size 432x288 with 1 Axes>"
      ]
     },
     "metadata": {},
     "output_type": "display_data"
    }
   ],
   "source": [
    "# Can also create a donut chart from this pie\n",
    "\n",
    "# we can just change pie chart to donut chart by drawing a circle with white color at origin.\n",
    "\n",
    "# draw a circle centered at (0,0)\n",
    "\n",
    "plt.pie(Toss_decision['Number of Matches'], labels=Toss_decision['Toss_Decision'], autopct='%.2f%%', pctdistance = 0.8)\n",
    "\n",
    "centre_circle = plt.Circle((0,0),0.60,fc='white')\n",
    "\n",
    "fig = plt.gcf()\n",
    "\n",
    "fig.gca().add_artist(centre_circle)\n",
    "\n",
    "plt.axis('equal')\n",
    "\n",
    "plt.show()"
   ]
  },
  {
   "cell_type": "markdown",
   "metadata": {},
   "source": [
    "Univariate - Numerical column\n",
    "\n",
    "What all we can do?\n",
    "\n",
    "1) We can check to distribution of data \n",
    "2) We can check for outliers\n",
    "3) We can create buckets (bins) to check the frequency of numbers"
   ]
  },
  {
   "cell_type": "code",
   "execution_count": 24,
   "metadata": {},
   "outputs": [
    {
     "data": {
      "text/html": [
       "<div>\n",
       "<style scoped>\n",
       "    .dataframe tbody tr th:only-of-type {\n",
       "        vertical-align: middle;\n",
       "    }\n",
       "\n",
       "    .dataframe tbody tr th {\n",
       "        vertical-align: top;\n",
       "    }\n",
       "\n",
       "    .dataframe thead th {\n",
       "        text-align: right;\n",
       "    }\n",
       "</style>\n",
       "<table border=\"1\" class=\"dataframe\">\n",
       "  <thead>\n",
       "    <tr style=\"text-align: right;\">\n",
       "      <th></th>\n",
       "      <th>manufacturer</th>\n",
       "      <th>model</th>\n",
       "      <th>displ</th>\n",
       "      <th>year</th>\n",
       "      <th>cyl</th>\n",
       "      <th>trans</th>\n",
       "      <th>cty</th>\n",
       "      <th>hwy</th>\n",
       "      <th>fl</th>\n",
       "      <th>class</th>\n",
       "    </tr>\n",
       "  </thead>\n",
       "  <tbody>\n",
       "    <tr>\n",
       "      <th>0</th>\n",
       "      <td>audi</td>\n",
       "      <td>a4</td>\n",
       "      <td>1.8</td>\n",
       "      <td>1999</td>\n",
       "      <td>4</td>\n",
       "      <td>auto(l5)</td>\n",
       "      <td>18</td>\n",
       "      <td>29</td>\n",
       "      <td>p</td>\n",
       "      <td>compact</td>\n",
       "    </tr>\n",
       "    <tr>\n",
       "      <th>1</th>\n",
       "      <td>audi</td>\n",
       "      <td>a4</td>\n",
       "      <td>1.8</td>\n",
       "      <td>1999</td>\n",
       "      <td>4</td>\n",
       "      <td>manual(m5)</td>\n",
       "      <td>21</td>\n",
       "      <td>29</td>\n",
       "      <td>p</td>\n",
       "      <td>compact</td>\n",
       "    </tr>\n",
       "    <tr>\n",
       "      <th>2</th>\n",
       "      <td>audi</td>\n",
       "      <td>a4</td>\n",
       "      <td>2.0</td>\n",
       "      <td>2008</td>\n",
       "      <td>4</td>\n",
       "      <td>manual(m6)</td>\n",
       "      <td>20</td>\n",
       "      <td>31</td>\n",
       "      <td>p</td>\n",
       "      <td>compact</td>\n",
       "    </tr>\n",
       "    <tr>\n",
       "      <th>3</th>\n",
       "      <td>audi</td>\n",
       "      <td>a4</td>\n",
       "      <td>2.0</td>\n",
       "      <td>2008</td>\n",
       "      <td>4</td>\n",
       "      <td>auto(av)</td>\n",
       "      <td>21</td>\n",
       "      <td>30</td>\n",
       "      <td>p</td>\n",
       "      <td>compact</td>\n",
       "    </tr>\n",
       "    <tr>\n",
       "      <th>4</th>\n",
       "      <td>audi</td>\n",
       "      <td>a4</td>\n",
       "      <td>2.8</td>\n",
       "      <td>1999</td>\n",
       "      <td>6</td>\n",
       "      <td>auto(l5)</td>\n",
       "      <td>16</td>\n",
       "      <td>26</td>\n",
       "      <td>p</td>\n",
       "      <td>compact</td>\n",
       "    </tr>\n",
       "  </tbody>\n",
       "</table>\n",
       "</div>"
      ],
      "text/plain": [
       "  manufacturer model  displ  year  cyl       trans  cty  hwy fl    class\n",
       "0         audi    a4    1.8  1999    4    auto(l5)   18   29  p  compact\n",
       "1         audi    a4    1.8  1999    4  manual(m5)   21   29  p  compact\n",
       "2         audi    a4    2.0  2008    4  manual(m6)   20   31  p  compact\n",
       "3         audi    a4    2.0  2008    4    auto(av)   21   30  p  compact\n",
       "4         audi    a4    2.8  1999    6    auto(l5)   16   26  p  compact"
      ]
     },
     "execution_count": 24,
     "metadata": {},
     "output_type": "execute_result"
    }
   ],
   "source": [
    "# Understanding the data distribution\n",
    "\n",
    "# Lets change the data set as this data set do not have much numerical column\n",
    "\n",
    "import dfply\n",
    "\n",
    "car = pd.read_excel('Cars.xlsx')\n",
    "\n",
    "car.head()\n"
   ]
  },
  {
   "cell_type": "code",
   "execution_count": 40,
   "metadata": {},
   "outputs": [
    {
     "data": {
      "image/png": "[encoded data removed]",
      "text/plain": [
       "<Figure size 432x288 with 1 Axes>"
      ]
     },
     "metadata": {
      "needs_background": "light"
     },
     "output_type": "display_data"
    }
   ],
   "source": [
    "# Lets check if the city milage and highway milage is normally distributed\n",
    "\n",
    "# Lets first check overall city milage and highway milage\n",
    "\n",
    "# City milage distribution\n",
    "\n",
    "from matplotlib import pyplot as plt\n",
    "\n",
    "plt.hist(car['cty'])\n",
    "\n",
    "plt.xlabel('City Milage')\n",
    "\n",
    "plt.ylabel('Number of Cars')\n",
    "\n",
    "plt.show()"
   ]
  },
  {
   "cell_type": "code",
   "execution_count": 47,
   "metadata": {},
   "outputs": [
    {
     "data": {
      "image/png": "[encoded data removed]",
      "text/plain": [
       "<Figure size 1080x360 with 2 Axes>"
      ]
     },
     "metadata": {
      "needs_background": "light"
     },
     "output_type": "display_data"
    }
   ],
   "source": [
    "# In case if you want to plot both city milage and highway milage side by side\n",
    "\n",
    "plt.rcParams['figure.figsize'] = [15,5]\n",
    "\n",
    "fig = plt.figure()\n",
    "\n",
    "plt.subplot(1, 2, 1)\n",
    "plt.hist(car['cty'])\n",
    "plt.xlabel('City Milage')\n",
    "\n",
    "plt.subplot(1, 2, 2)\n",
    "plt.hist(car['hwy'])\n",
    "plt.xlabel('Highway Milage')\n",
    "\n",
    "plt.show()"
   ]
  },
  {
   "cell_type": "code",
   "execution_count": 48,
   "metadata": {},
   "outputs": [
    {
     "data": {
      "image/png": "[encoded data removed]",
      "text/plain": [
       "<Figure size 1512x216 with 7 Axes>"
      ]
     },
     "metadata": {
      "needs_background": "light"
     },
     "output_type": "display_data"
    }
   ],
   "source": [
    "# Lets see how the city milage distribution vary for each class\n",
    "\n",
    "import seaborn as sns\n",
    "\n",
    "from matplotlib import pyplot as plt\n",
    "\n",
    "g = sns.FacetGrid(car, col=\"class\")\n",
    "\n",
    "g = g.map(plt.hist, \"cty\")\n"
   ]
  },
  {
   "cell_type": "code",
   "execution_count": 50,
   "metadata": {},
   "outputs": [
    {
     "data": {
      "text/plain": [
       "displ    0.444316\n",
       "year     0.000000\n",
       "cyl      0.113800\n",
       "cty      0.796561\n",
       "hwy      0.369236\n",
       "dtype: float64"
      ]
     },
     "execution_count": 50,
     "metadata": {},
     "output_type": "execute_result"
    }
   ],
   "source": [
    "# Now that we have seen that the city milage and highway milage are not normally distributed.\n",
    "# We would like to see if the skewness in the city milage and highway milage is very high?\n",
    "\n",
    "car.skew()"
   ]
  },
  {
   "cell_type": "code",
   "execution_count": 56,
   "metadata": {},
   "outputs": [
    {
     "data": {
      "text/plain": [
       "displ       0.444316\n",
       "year        0.000000\n",
       "cyl         0.113800\n",
       "cty         0.796561\n",
       "hwy         0.369236\n",
       "cty_log    -0.024827\n",
       "cty_sqrt    0.359486\n",
       "dtype: float64"
      ]
     },
     "execution_count": 56,
     "metadata": {},
     "output_type": "execute_result"
    }
   ],
   "source": [
    "# Skewness treatment \n",
    "\n",
    "import numpy as np\n",
    "\n",
    "car['cty_log'] = np.log(car['cty'])\n",
    "\n",
    "car['cty_sqrt'] = np.sqrt(car['cty'])\n",
    "\n",
    "car.skew()"
   ]
  },
  {
   "cell_type": "code",
   "execution_count": 77,
   "metadata": {},
   "outputs": [
    {
     "name": "stdout",
     "output_type": "stream",
     "text": [
      "26.5\n",
      "6.5\n"
     ]
    },
    {
     "data": {
      "text/html": [
       "<div>\n",
       "<style scoped>\n",
       "    .dataframe tbody tr th:only-of-type {\n",
       "        vertical-align: middle;\n",
       "    }\n",
       "\n",
       "    .dataframe tbody tr th {\n",
       "        vertical-align: top;\n",
       "    }\n",
       "\n",
       "    .dataframe thead th {\n",
       "        text-align: right;\n",
       "    }\n",
       "</style>\n",
       "<table border=\"1\" class=\"dataframe\">\n",
       "  <thead>\n",
       "    <tr style=\"text-align: right;\">\n",
       "      <th>col_0</th>\n",
       "      <th>Outlier</th>\n",
       "      <th>No. of Cars</th>\n",
       "    </tr>\n",
       "  </thead>\n",
       "  <tbody>\n",
       "    <tr>\n",
       "      <th>0</th>\n",
       "      <td>Outlier</td>\n",
       "      <td>5</td>\n",
       "    </tr>\n",
       "    <tr>\n",
       "      <th>1</th>\n",
       "      <td>Safe</td>\n",
       "      <td>229</td>\n",
       "    </tr>\n",
       "  </tbody>\n",
       "</table>\n",
       "</div>"
      ],
      "text/plain": [
       "col_0  Outlier  No. of Cars\n",
       "0      Outlier            5\n",
       "1         Safe          229"
      ]
     },
     "execution_count": 77,
     "metadata": {},
     "output_type": "execute_result"
    }
   ],
   "source": [
    "# Skewness in data also mean that my data will have outliers\n",
    "\n",
    "# Checking the outliers in city milage manually\n",
    "\n",
    "# Step 1: FInd the quatiles of city milage\n",
    "\n",
    "Quatiles = car['cty'].quantile([0.25,0.5,0.75])\n",
    "\n",
    "Quatiles\n",
    "\n",
    "# Step 2: Finding the IQR\n",
    "\n",
    "IQR = 19-14\n",
    "\n",
    "# Step 3: Finding upper wishker and lower wishker\n",
    "\n",
    "UW = 19 + 1.5*IQR\n",
    "LW = 14 - 1.5*IQR\n",
    "\n",
    "print(UW)\n",
    "print(LW)\n",
    "\n",
    "# labelling the rows as outliers or not\n",
    "\n",
    "car['Outlier'] = np.where((car['cty']> UW) | (car['cty'] < LW), \"Outlier\", \"Safe\")\n",
    "\n",
    "car.head()\n",
    "\n",
    "# Creating cross table of Outlier\n",
    "\n",
    "Out_table = pd.crosstab(index=car['Outlier'], columns=\"No. of Cars\").reset_index()\n",
    "\n",
    "Out_table"
   ]
  },
  {
   "cell_type": "code",
   "execution_count": 78,
   "metadata": {},
   "outputs": [
    {
     "data": {
      "text/plain": [
       "([<matplotlib.axis.XTick at 0x26bc4742b0>],\n",
       " <a list of 1 Text xticklabel objects>)"
      ]
     },
     "execution_count": 78,
     "metadata": {},
     "output_type": "execute_result"
    },
    {
     "data": {
      "image/png": "[encoded data removed]",
      "text/plain": [
       "<Figure size 1080x360 with 1 Axes>"
      ]
     },
     "metadata": {
      "needs_background": "light"
     },
     "output_type": "display_data"
    }
   ],
   "source": [
    "# Or we can also plot this in a form of a box plot\n",
    "\n",
    "plt.rcParams['figure.figsize'] = [15,5]\n",
    "\n",
    "# Matplotlib box plot using only one column\n",
    "\n",
    "plt.boxplot(car.cty)\n",
    "\n",
    "plt.xticks([1], ['cty'])"
   ]
  },
  {
   "cell_type": "code",
   "execution_count": 79,
   "metadata": {},
   "outputs": [
    {
     "data": {
      "text/plain": [
       "([<matplotlib.axis.XTick at 0x26bd38f2b0>,\n",
       "  <matplotlib.axis.XTick at 0x26bce97b70>],\n",
       " <a list of 2 Text xticklabel objects>)"
      ]
     },
     "execution_count": 79,
     "metadata": {},
     "output_type": "execute_result"
    },
    {
     "data": {
      "image/png": "[encoded data removed]",
      "text/plain": [
       "<Figure size 1080x360 with 1 Axes>"
      ]
     },
     "metadata": {
      "needs_background": "light"
     },
     "output_type": "display_data"
    }
   ],
   "source": [
    "# Creating multiple column box plot - City mileage and highway mileage\n",
    "\n",
    "# First step is to convert the pandas data frame to a numpy array\n",
    "\n",
    "data = car[['cty', 'hwy']].values\n",
    "\n",
    "data\n",
    "\n",
    "plt.boxplot(data)\n",
    "\n",
    "plt.xticks([1,2], ['cty', 'hwy'])"
   ]
  },
  {
   "cell_type": "code",
   "execution_count": 80,
   "metadata": {},
   "outputs": [
    {
     "data": {
      "text/plain": [
       "<matplotlib.axes._subplots.AxesSubplot at 0x26c17de320>"
      ]
     },
     "execution_count": 80,
     "metadata": {},
     "output_type": "execute_result"
    },
    {
     "data": {
      "image/png": "[encoded data removed]",
      "text/plain": [
       "<Figure size 1080x360 with 1 Axes>"
      ]
     },
     "metadata": {
      "needs_background": "light"
     },
     "output_type": "display_data"
    }
   ],
   "source": [
    "# Using seaborn lib - also adding a categorical column - City milage for each class\n",
    "\n",
    "import seaborn as sns\n",
    "\n",
    "sns.boxplot(data=car, x='class', y='cty')\n",
    "\n",
    "# Controlling the order of diplay of class\n",
    "\n",
    "order=[\"subcompact\", \"compact\", \"midsize\", \"pickup\", \"suv\", \"2seater\", \"minivan\"]\n",
    "\n",
    "sns.boxplot(data=car, x='class', y='cty', order=order)"
   ]
  }
 ],
 "metadata": {
  "kernelspec": {
   "display_name": "Python 3",
   "language": "python",
   "name": "python3"
  },
  "language_info": {
   "codemirror_mode": {
    "name": "ipython",
    "version": 3
   },
   "file_extension": ".py",
   "mimetype": "text/x-python",
   "name": "python",
   "nbconvert_exporter": "python",
   "pygments_lexer": "ipython3",
   "version": "3.7.1"
  }
 },
 "nbformat": 4,
 "nbformat_minor": 2
}
